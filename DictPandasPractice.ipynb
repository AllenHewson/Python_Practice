{
 "cells": [
  {
   "cell_type": "code",
   "execution_count": 15,
   "metadata": {},
   "outputs": [],
   "source": [
    "import pandas as pd\n",
    "import numpy as np\n",
    "import matplotlib.pyplot as plt"
   ]
  },
  {
   "cell_type": "code",
   "execution_count": 16,
   "metadata": {},
   "outputs": [],
   "source": [
    "df = pd.read_excel('DictPandasPractice.xlsx')"
   ]
  },
  {
   "cell_type": "markdown",
   "metadata": {},
   "source": [
    "#### For Finding Burn Status grouping"
   ]
  },
  {
   "cell_type": "code",
   "execution_count": 17,
   "metadata": {},
   "outputs": [
    {
     "name": "stdout",
     "output_type": "stream",
     "text": [
      "   Data                   burnt?  Group Status\n",
      "0     1   Possible thermal event           NaN\n",
      "1     2  Potential thermal event           NaN\n",
      "2     3  Potential thermal event           NaN\n",
      "3     4            Thermal Event           NaN\n",
      "4     5  Potential Thermal Event           NaN\n",
      "5     6   Possible Thermal Event           NaN\n",
      "6     7            Thermal Event           NaN\n",
      "7     8    Extreme Thermal Event           NaN\n",
      "8     9         No Thermal Event           NaN\n",
      "9    10         no thermal event           NaN\n"
     ]
    }
   ],
   "source": [
    "print(df)"
   ]
  },
  {
   "cell_type": "code",
   "execution_count": 18,
   "metadata": {},
   "outputs": [],
   "source": [
    "dict = {\n",
    "    \"Possible thermal event\": \"Maybe\",\n",
    "    \"Potential thermal event\": \"Maybe\",\n",
    "    \"Thermal Event\": \"Yes\",\n",
    "    \"Potential Thermal Event\": \"Maybe\",\n",
    "    \"Possible Thermal Event\": \"Maybe\",\n",
    "    \"Extreme Thermal Event\": \"Yes\",\n",
    "    \"No Thermal Event\": \"No\",\n",
    "    \"no thermal event\": \"No\",\n",
    "}"
   ]
  },
  {
   "cell_type": "code",
   "execution_count": 19,
   "metadata": {
    "scrolled": true
   },
   "outputs": [
    {
     "name": "stderr",
     "output_type": "stream",
     "text": [
      "<ipython-input-19-f13190e7bca0>:3: SettingWithCopyWarning: \n",
      "A value is trying to be set on a copy of a slice from a DataFrame\n",
      "\n",
      "See the caveats in the documentation: https://pandas.pydata.org/pandas-docs/stable/user_guide/indexing.html#returning-a-view-versus-a-copy\n",
      "  df['Group Status'][i] = dict[df['burnt?'].astype(str)[i]]\n",
      "C:\\Users\\Allen Hewson\\anaconda3\\lib\\site-packages\\pandas\\core\\indexing.py:670: SettingWithCopyWarning: \n",
      "A value is trying to be set on a copy of a slice from a DataFrame\n",
      "\n",
      "See the caveats in the documentation: https://pandas.pydata.org/pandas-docs/stable/user_guide/indexing.html#returning-a-view-versus-a-copy\n",
      "  iloc._setitem_with_indexer(indexer, value)\n"
     ]
    }
   ],
   "source": [
    "a = np.arange(0,len(df),1)\n",
    "for i in a:\n",
    "    df['Group Status'][i] = dict[df['burnt?'].astype(str)[i]]\n",
    "\n"
   ]
  },
  {
   "cell_type": "code",
   "execution_count": 20,
   "metadata": {},
   "outputs": [
    {
     "name": "stdout",
     "output_type": "stream",
     "text": [
      "   Data                   burnt? Group Status\n",
      "0     1   Possible thermal event        Maybe\n",
      "1     2  Potential thermal event        Maybe\n",
      "2     3  Potential thermal event        Maybe\n",
      "3     4            Thermal Event          Yes\n",
      "4     5  Potential Thermal Event        Maybe\n",
      "5     6   Possible Thermal Event        Maybe\n",
      "6     7            Thermal Event          Yes\n",
      "7     8    Extreme Thermal Event          Yes\n",
      "8     9         No Thermal Event           No\n",
      "9    10         no thermal event           No\n"
     ]
    }
   ],
   "source": [
    "print(df)"
   ]
  },
  {
   "cell_type": "code",
   "execution_count": 21,
   "metadata": {},
   "outputs": [
    {
     "data": {
      "image/png": "[encoded data removed]",
      "text/plain": [
       "<Figure size 432x288 with 1 Axes>"
      ]
     },
     "metadata": {},
     "output_type": "display_data"
    }
   ],
   "source": [
    "Maybe = df.loc[df['Group Status'] == 'Maybe'].count()[0]\n",
    "Yes = df.loc[df['Group Status'] == 'Yes'].count()[0]\n",
    "No = df.loc[df['Group Status'] == 'No'].count()[0]\n",
    "\n",
    "labels = ['Maybe', 'Yes', 'No']\n",
    "colors = ['r','b', 'g']\n",
    "\n",
    "plt.pie([Maybe, Yes, No], labels=labels, colors=colors, autopct='%.2f %%')\n",
    "plt.title('Burn Status of Inverters after Thermal Events')\n",
    "plt.show()"
   ]
  },
  {
   "cell_type": "code",
   "execution_count": null,
   "metadata": {},
   "outputs": [],
   "source": []
  }
 ],
 "metadata": {
  "kernelspec": {
   "display_name": "Python 3",
   "language": "python",
   "name": "python3"
  },
  "language_info": {
   "codemirror_mode": {
    "name": "ipython",
    "version": 3
   },
   "file_extension": ".py",
   "mimetype": "text/x-python",
   "name": "python",
   "nbconvert_exporter": "python",
   "pygments_lexer": "ipython3",
   "version": "3.8.5"
  }
 },
 "nbformat": 4,
 "nbformat_minor": 4
}
